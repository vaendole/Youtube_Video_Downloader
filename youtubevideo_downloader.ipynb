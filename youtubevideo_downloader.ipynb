{
 "cells": [
  {
   "cell_type": "code",
   "execution_count": null,
   "metadata": {},
   "outputs": [],
   "source": [
    "# pip install pytube3\n",
    "\n",
    "# pip install --upgrade pytube\n"
   ]
  },
  {
   "cell_type": "code",
   "execution_count": 1,
   "metadata": {},
   "outputs": [],
   "source": [
    "from pytube import YouTube\n"
   ]
  },
  {
   "cell_type": "code",
   "execution_count": 2,
   "metadata": {},
   "outputs": [],
   "source": [
    "link = input(\"Enter youtube video\")\n",
    "yt=YouTube(link)"
   ]
  },
  {
   "cell_type": "code",
   "execution_count": 7,
   "metadata": {},
   "outputs": [
    {
     "name": "stdout",
     "output_type": "stream",
     "text": [
      "Title : Taarak Mehta Ka Ooltah Chashmah | तारक मेहता | Ep 4172 | Coming Up Next\n",
      "Views : 710929\n",
      "Duration : 56\n",
      "Description : None\n",
      "Ratings : None\n"
     ]
    }
   ],
   "source": [
    "# To print title\n",
    "print(\"Title :\", yt.title)\n",
    "# To get number of views\n",
    "print(\"Views :\", yt.views)\n",
    "# To get the length of video\n",
    "print(\"Duration :\", yt.length)\n",
    "# To get description\n",
    "print(\"Description :\", yt.description)\n",
    "# To get ratings\n",
    "print(\"Ratings :\", yt.rating)"
   ]
  },
  {
   "cell_type": "code",
   "execution_count": 10,
   "metadata": {},
   "outputs": [
    {
     "name": "stdout",
     "output_type": "stream",
     "text": [
      "Downloading...\n",
      "[youtube] Extracting URL: https://www.youtube.com/watch?v=fkJ7Ak-s2Ng\n",
      "[youtube] fkJ7Ak-s2Ng: Downloading webpage\n",
      "[youtube] fkJ7Ak-s2Ng: Downloading ios player API JSON\n",
      "[youtube] fkJ7Ak-s2Ng: Downloading web creator player API JSON\n",
      "[youtube] fkJ7Ak-s2Ng: Downloading player 3abab6ef\n",
      "[youtube] fkJ7Ak-s2Ng: Downloading m3u8 information\n",
      "[info] fkJ7Ak-s2Ng: Downloading 1 format(s): 18\n",
      "[download] Destination: Taarak Mehta Ka Ooltah Chashmah ｜ तारक मेहता ｜ Ep 4172 ｜ Coming Up Next [fkJ7Ak-s2Ng].mp4\n",
      "[download] 100% of    2.86MiB in 00:00:06 at 444.58KiB/s \n",
      "Download Completed\n"
     ]
    }
   ],
   "source": [
    "from yt_dlp import YoutubeDL\n",
    "\n",
    "downaload_option=input(\"Do you want to download this video? (yes/no): \").lower()\n",
    "\n",
    "if downaload_option==\"yes\":\n",
    "    url=\"https://www.youtube.com/watch?v=fkJ7Ak-s2Ng\"\n",
    "    ydl_opts={\"format\":\"best\"}\n",
    "    with YoutubeDL(ydl_opts) as ydl:\n",
    "        print(\"Downloading...\")\n",
    "        ydl.download([url])\n",
    "        print(\"Download Completed\")\n",
    "else:\n",
    "    print(\"Download aborted\")"
   ]
  },
  {
   "cell_type": "code",
   "execution_count": null,
   "metadata": {},
   "outputs": [],
   "source": []
  }
 ],
 "metadata": {
  "kernelspec": {
   "display_name": "Python 3",
   "language": "python",
   "name": "python3"
  },
  "language_info": {
   "codemirror_mode": {
    "name": "ipython",
    "version": 3
   },
   "file_extension": ".py",
   "mimetype": "text/x-python",
   "name": "python",
   "nbconvert_exporter": "python",
   "pygments_lexer": "ipython3",
   "version": "3.12.2"
  }
 },
 "nbformat": 4,
 "nbformat_minor": 2
}
